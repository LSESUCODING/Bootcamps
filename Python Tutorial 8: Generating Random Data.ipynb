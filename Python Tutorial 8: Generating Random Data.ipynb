{
 "cells": [
  {
   "cell_type": "code",
   "execution_count": 22,
   "metadata": {},
   "outputs": [
    {
     "name": "stdout",
     "output_type": "stream",
     "text": [
      "7\n"
     ]
    }
   ],
   "source": [
    "# Review from previous\n",
    "\n",
    "def range(*integers):\n",
    "    max_num = max(integers)\n",
    "    min_num = min(integers)\n",
    "    n = max_num - min_num\n",
    "    return n\n",
    "\n",
    "print(range(1, 2, 3, 4, 5, 8))"
   ]
  },
  {
   "cell_type": "code",
   "execution_count": 31,
   "metadata": {
    "scrolled": true
   },
   "outputs": [
    {
     "name": "stdout",
     "output_type": "stream",
     "text": [
      "Guess a number: 4\n",
      "Too low\n",
      "You lose\n"
     ]
    }
   ],
   "source": [
    "import random\n",
    "\n",
    "guess = int(input(\"Guess a number: \"))\n",
    "\n",
    "# Simulate a person thinking of a random number between 1 and 100\n",
    "secret = random.randint(1,100);\n",
    "win = False\n",
    "    \n",
    "if guess == secret:\n",
    "    win = True\n",
    "elif guess > secret:\n",
    "    print(\"Too high\")\n",
    "else:\n",
    "    print(\"Too low\")\n",
    "        \n",
    "if win:\n",
    "    print(\"You win!\")\n",
    "else:\n",
    "    print(\"You lose\")"
   ]
  },
  {
   "cell_type": "code",
   "execution_count": 32,
   "metadata": {},
   "outputs": [
    {
     "name": "stdout",
     "output_type": "stream",
     "text": [
      "10\n"
     ]
    }
   ],
   "source": [
    "print(secret)"
   ]
  },
  {
   "cell_type": "code",
   "execution_count": 34,
   "metadata": {},
   "outputs": [
    {
     "data": {
      "text/plain": [
       "['3C', '2S', '8H']"
      ]
     },
     "execution_count": 34,
     "metadata": {},
     "output_type": "execute_result"
    }
   ],
   "source": [
    "# Simulate choosing a random card from a deck of 52 cards\n",
    "\n",
    "deck = ['AH', '2H', '3H', '4H', '5H', '6H', '7H', '8H', '9H', '10H', 'JH','QH','KH',\n",
    "       'AC','2C','3C','4C','5C','6C','7C','8C','9C','10C','JC','QC','KC',\n",
    "       'AD','2D','3D','4D','5D','6D','7D','8D','9D','10D','JD','QD','KD',\n",
    "       'AS','2S','3S','4S','5S','6S','7S','8S','9S','10S','JS','QS','KS']\n",
    "random.choice(deck)\n",
    "random.choices(deck, k = 3)\n",
    "# each time you use choice or choices, you pass through the original sequence which can lead to duplicates"
   ]
  },
  {
   "cell_type": "code",
   "execution_count": 35,
   "metadata": {},
   "outputs": [
    {
     "data": {
      "text/plain": [
       "['9C', '2S', '5C']"
      ]
     },
     "execution_count": 35,
     "metadata": {},
     "output_type": "execute_result"
    }
   ],
   "source": [
    "# To avoid duplicates, use sample()\n",
    "random.sample(deck, k = 3)"
   ]
  },
  {
   "cell_type": "code",
   "execution_count": 37,
   "metadata": {},
   "outputs": [
    {
     "name": "stdout",
     "output_type": "stream",
     "text": [
      "icsmoonec\n",
      "lndoon\n",
      "ta elieiclpcocsin\n",
      "tmhceamsita\n",
      "enloanairntit\n"
     ]
    }
   ],
   "source": [
    "# Shuffle method\n",
    "random.shuffle(deck)\n",
    "# shuffle changes the original sequence so we need to pass mutable sequences through it\n",
    "\n",
    "# Strings are not mutable, so how can we create a shuffled word puzzle\n",
    "words = ['economics', 'london', 'political science', 'mathematics', 'international']\n",
    "list_words = [list(w) for w in words] # use a list comprehension to create a mutable list from the strings\n",
    "\n",
    "for w in list_words:\n",
    "    random.shuffle(w)\n",
    "\n",
    "scrambled_words = [''.join(w) for w in list_words] # piece list back into a string\n",
    "\n",
    "for w in scrambled_words:\n",
    "    print(w)"
   ]
  },
  {
   "cell_type": "code",
   "execution_count": 38,
   "metadata": {},
   "outputs": [
    {
     "data": {
      "text/plain": [
       "0.4383270579804369"
      ]
     },
     "execution_count": 38,
     "metadata": {},
     "output_type": "execute_result"
    }
   ],
   "source": [
    "import numpy as np\n",
    "np.random.random()"
   ]
  },
  {
   "cell_type": "code",
   "execution_count": 39,
   "metadata": {},
   "outputs": [
    {
     "data": {
      "text/plain": [
       "67"
      ]
     },
     "execution_count": 39,
     "metadata": {},
     "output_type": "execute_result"
    }
   ],
   "source": [
    "np.random.seed(123)\n",
    "np.random.randint(1, 100)"
   ]
  },
  {
   "cell_type": "code",
   "execution_count": 40,
   "metadata": {},
   "outputs": [
    {
     "name": "stdout",
     "output_type": "stream",
     "text": [
      "[5 3 2 4 3 4 2 2 1 2 2 1 1 2 4 6 5 1 1 5 2 4 3 5 3 5 1 6 1 2 4 5 5 5 2 6 4\n",
      " 3 2 5 1 4 3 6 1 4 3 3 3 6 3 5 4 4 6 5 5 6 4 3 1 5 4 2 4 3 6 2 3 5 1 2 5 3\n",
      " 2 2 4 5 6 2 1 1 4 2 4 4 4 6 2 2 3 4 4 4 4 1 2 4 2 5]\n"
     ]
    }
   ],
   "source": [
    "# Simulate die rolls\n",
    "die_rolls1 = np.random.randint(1, 7, 100) # 100 number of rolls, possible to get values from 1 to 6\n",
    "print(die_rolls1)"
   ]
  },
  {
   "cell_type": "code",
   "execution_count": null,
   "metadata": {},
   "outputs": [],
   "source": []
  }
 ],
 "metadata": {
  "kernelspec": {
   "display_name": "Python 3",
   "language": "python",
   "name": "python3"
  },
  "language_info": {
   "codemirror_mode": {
    "name": "ipython",
    "version": 3
   },
   "file_extension": ".py",
   "mimetype": "text/x-python",
   "name": "python",
   "nbconvert_exporter": "python",
   "pygments_lexer": "ipython3",
   "version": "3.7.0"
  }
 },
 "nbformat": 4,
 "nbformat_minor": 2
}
