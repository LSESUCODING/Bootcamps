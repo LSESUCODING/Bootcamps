{
 "cells": [
  {
   "cell_type": "code",
   "execution_count": 16,
   "metadata": {},
   "outputs": [
    {
     "name": "stdout",
     "output_type": "stream",
     "text": [
      "0 2 4 6 8 10 \n"
     ]
    }
   ],
   "source": [
    "# Review of Conditionals and Loops\n",
    "# Starting from 0, print all of the even numbers up to 10 in a single line of output\n",
    "\n",
    "evens = '' # create an empty string\n",
    "for i in range(11):\n",
    "    if (i % 2) == 0: # check if even\n",
    "        evens += str(i) # add a string type of the number i to the empty string\n",
    "        evens += \" \" # separate each number by a space\n",
    "print(evens)"
   ]
  },
  {
   "cell_type": "code",
   "execution_count": 6,
   "metadata": {},
   "outputs": [
    {
     "data": {
      "text/plain": [
       "[0, 2, 4, 6, 8, 10, 12, 14, 16, 18, 20, 22, 24]"
      ]
     },
     "execution_count": 6,
     "metadata": {},
     "output_type": "execute_result"
    }
   ],
   "source": [
    "# List comprehension of the same problem\n",
    "evens = [i for i in range(26) if (i % 2) == 0]\n",
    "evens"
   ]
  },
  {
   "cell_type": "code",
   "execution_count": null,
   "metadata": {},
   "outputs": [],
   "source": [
    "# Coding Challenge Week 3: \n",
    "# Ask your user for two inputs: weather and temperature. Weather is a string, temperature is an integer. Write some code so that if the weather is raining and temperature is below 10, user is told \"Bring an umbrella and jacket\". If it is only raining, just bring an umbrella. If it is only cold, just bring a jacket. If it is neither raining nor cold, say the weather is okay today. No need to bring anything.\n",
    "# Repear this for a number of trials\n",
    "\n",
    "trials = int(input())\n",
    "for t in range(0, trials): # repeat the code for the number of trials using a for loop\n",
    "    weather = str(input(\"What is the weather like today?: \")) # ask user for weather input\n",
    "    temp = int(input(\"What is the temperature?: \")) # ask user for temperature input\n",
    "    if (weather == \"raining\") and (temp < 10): # check if both conditions hold, if true output will be \"Bring a jacket and umbrella\"\n",
    "        print(\"Bring a jacket and umbrella\")\n",
    "    elif (weather == \"raining\"): # if both conditions don't hold, Python checks weather\n",
    "        print(\"Bring an umbrellla\")\n",
    "    elif (temp < 10): # if both conditions don't hold and weather doesn't hold, Python checks temperature\n",
    "        print(\"Bring a jacket\")\n",
    "    else: # if no conditions hold\n",
    "        print(\"Weather is good today\")"
   ]
  },
  {
   "cell_type": "code",
   "execution_count": 6,
   "metadata": {},
   "outputs": [
    {
     "data": {
      "text/plain": [
       "2"
      ]
     },
     "execution_count": 6,
     "metadata": {},
     "output_type": "execute_result"
    }
   ],
   "source": [
    "# Defining Functions\n",
    "\n",
    "def least_difference(a, b, c):\n",
    "    \"\"\"Return the smallest difference between any two numbers among a, b, and c\"\"\" # explains what the function does\n",
    "    diff1 = abs(a - b)\n",
    "    diff2 = abs(b - c)\n",
    "    diff3 = abs(a - c)\n",
    "    return min(diff1, diff2, diff3)\n",
    "\n",
    "least_difference(4,12,6)\n",
    "\n",
    "# interior of function defines what the function does and return tells us what value the function gives us"
   ]
  },
  {
   "cell_type": "code",
   "execution_count": 7,
   "metadata": {},
   "outputs": [
    {
     "name": "stdout",
     "output_type": "stream",
     "text": [
      "Help on function least_difference in module __main__:\n",
      "\n",
      "least_difference(a, b, c)\n",
      "    Return the smallest difference between any two numbers among a, b, and c\n",
      "\n"
     ]
    }
   ],
   "source": [
    "help(least_difference) # call help on a function name if you need to know what it does or need more information"
   ]
  },
  {
   "cell_type": "code",
   "execution_count": 18,
   "metadata": {},
   "outputs": [
    {
     "name": "stdout",
     "output_type": "stream",
     "text": [
      "Hello LSE!\n",
      "Hello Everyone!\n"
     ]
    }
   ],
   "source": [
    "# Functions with Default Arguments\n",
    "# Default arguments are arguments in a function that are pre-specified by Python. If you want to change this value, you need to explicitly tell Python.\n",
    "def greet(obj = \"LSE\"): # here we define LSE as the default argument\n",
    "    print(\"Hello \", obj, \"!\", sep=\"\")\n",
    "    \n",
    "greet() # LSE is the default argument so by calling the function with no arguments inside, we get Hello LSE!\n",
    "greet(\"Everyone\") # we specify a different argument so our output looks different"
   ]
  },
  {
   "cell_type": "code",
   "execution_count": 12,
   "metadata": {},
   "outputs": [
    {
     "data": {
      "text/plain": [
       "3"
      ]
     },
     "execution_count": 12,
     "metadata": {},
     "output_type": "execute_result"
    }
   ],
   "source": [
    "# Lambda Functions\n",
    "# Lambda functions define functions in one line of code. First, need to write lambda, then the arguments followed by the definition of the function\n",
    "abs_diff = lambda a, b: abs(a-b)\n",
    "abs_diff(5,8)"
   ]
  },
  {
   "cell_type": "code",
   "execution_count": 20,
   "metadata": {},
   "outputs": [
    {
     "name": "stdout",
     "output_type": "stream",
     "text": [
      "olleH\n"
     ]
    }
   ],
   "source": [
    "# Exercises with functions: attempt before looking at the answer!\n",
    "\n",
    "# Exercise 1: Create a function that reverses a string\n",
    "def reverse(str1):\n",
    "    rstr1 = str1[::-1]\n",
    "    print(rstr1)\n",
    "    \n",
    "reverse(\"Hello\")"
   ]
  },
  {
   "cell_type": "code",
   "execution_count": 4,
   "metadata": {},
   "outputs": [
    {
     "name": "stdout",
     "output_type": "stream",
     "text": [
      "Maja you will turn 100 years old in 2100\n"
     ]
    }
   ],
   "source": [
    "# Exercise 2: Create a program that asks the user to enter their name and age. Print a message that tells them when they will turn 100 years old\n",
    "\n",
    "def hundreth_year(name, age):\n",
    "    year = (2019 - age) + 100\n",
    "    print(name, \"you will turn 100 years old in\", str(year))\n",
    "\n",
    "hundreth_year(\"Maja\", 19)"
   ]
  },
  {
   "cell_type": "code",
   "execution_count": 2,
   "metadata": {},
   "outputs": [
    {
     "data": {
      "text/plain": [
       "[1, 5, 25, 125]"
      ]
     },
     "execution_count": 2,
     "metadata": {},
     "output_type": "execute_result"
    }
   ],
   "source": [
    "# Exercise 3: Create a program that asks the user for a number and prints out all of the divisors of the number.\n",
    "\n",
    "def factors(n):\n",
    "    factors = []\n",
    "    for i in range(1, n+1):\n",
    "        if n % i == 0:\n",
    "            factors.append(i)\n",
    "    return factors\n",
    "\n",
    "factors(9)\n",
    "factors(125)"
   ]
  },
  {
   "cell_type": "code",
   "execution_count": 10,
   "metadata": {},
   "outputs": [
    {
     "data": {
      "text/plain": [
       "[1, 1, 2, 3, 5, 8, 13]"
      ]
     },
     "execution_count": 10,
     "metadata": {},
     "output_type": "execute_result"
    }
   ],
   "source": [
    "# Exercise 4: Create a function that takes two lists and returns a list that contains only the elements in common between them\n",
    "\n",
    "def commonElements(a, b):\n",
    "    newList = []\n",
    "    overlap = [item for item in a if item in b]\n",
    "    for element in overlap:\n",
    "        newList.append(element)\n",
    "    return newList\n",
    "\n",
    "a = [1, 1, 2, 3, 5, 8, 13, 21, 34, 55, 89]\n",
    "b = [1, 2, 3, 4, 5, 6, 7, 8, 9, 10, 11, 12, 13]\n",
    "commonElements(a, b)"
   ]
  },
  {
   "cell_type": "code",
   "execution_count": 14,
   "metadata": {},
   "outputs": [
    {
     "name": "stdout",
     "output_type": "stream",
     "text": [
      "Maximum is 3\n",
      "Maximum is 2\n"
     ]
    }
   ],
   "source": [
    "# Exercise 5: Create a function that takes three variables as input and returns the largest of the three without the max function\n",
    "\n",
    "def maximum(a, b, c):\n",
    "    if (a > b) and (a > c):\n",
    "        print(\"Maximum is\", a)\n",
    "    elif (b > a) and (b > c):\n",
    "        print(\"Maximum is\", b)\n",
    "    elif (c > a) and (c > b):\n",
    "        print(\"Maximum is\", c)\n",
    "        \n",
    "maximum(1, 2, 3)\n",
    "maximum(1, 1, 2)"
   ]
  },
  {
   "cell_type": "code",
   "execution_count": 21,
   "metadata": {},
   "outputs": [
    {
     "name": "stdout",
     "output_type": "stream",
     "text": [
      "tall\n",
      "3\n",
      "True\n"
     ]
    }
   ],
   "source": [
    "# Defining Classes: \n",
    "# A class is a framework for objects of a similar type. Objects have attributes and methods (which are functions defined within the class)\n",
    "\n",
    "# Create an object called Person that has methods to tell us if the person is tall, tells us their age and height, and classifies their age as teenager, adult, or child\n",
    "class Person:\n",
    "    \n",
    "    def __init__(self, age, height):\n",
    "        self.age = age\n",
    "        self.height = height\n",
    "        \n",
    "    def istall(self):\n",
    "        if self.height < 185 and self.age > 18:\n",
    "            self.state = 'short'\n",
    "        else: \n",
    "            self.state = 'tall'\n",
    "    \n",
    "    def agetype(self):\n",
    "        if self.age > 13 and self.age < 19:\n",
    "            self.state = 'teenager'\n",
    "        elif self.age > 19:\n",
    "            self.state = 'adult'\n",
    "        else:\n",
    "            self.state = 'child'\n",
    "            \n",
    "newPerson = Person(12, 163)\n",
    "newPerson.istall()\n",
    "print(newPerson.state)\n",
    "            \n",
    "# Create a class called triangle. Its init method should take self, angle1, angle2, and angle3 as arguments. Create a variable called number of sides and set it equal to 3. Create a method called check angles. It should return True if the sum of the angles is 180\n",
    "\n",
    "class Triangle(object):\n",
    "    def __init__(self, angle1, angle2, angle3):\n",
    "        self.angle1 = angle1\n",
    "        self.angle2 = angle2\n",
    "        self.angle3 = angle3\n",
    "        \n",
    "    number_of_sides = 3\n",
    "    \n",
    "    def check_angles(self):\n",
    "        if self.angle1 + self.angle2 + self.angle3 == 180:\n",
    "            return True\n",
    "        else:\n",
    "            return False\n",
    "\n",
    "        \n",
    "my_triangle = Triangle(90, 30, 60)\n",
    "print(my_triangle.number_of_sides)\n",
    "print(my_triangle.check_angles())"
   ]
  }
 ],
 "metadata": {
  "kernelspec": {
   "display_name": "Python 3",
   "language": "python",
   "name": "python3"
  },
  "language_info": {
   "codemirror_mode": {
    "name": "ipython",
    "version": 3
   },
   "file_extension": ".py",
   "mimetype": "text/x-python",
   "name": "python",
   "nbconvert_exporter": "python",
   "pygments_lexer": "ipython3",
   "version": "3.7.0"
  }
 },
 "nbformat": 4,
 "nbformat_minor": 2
}
