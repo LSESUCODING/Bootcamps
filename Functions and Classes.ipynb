{
 "cells": [
  {
   "cell_type": "code",
   "execution_count": 3,
   "metadata": {},
   "outputs": [
    {
     "name": "stdout",
     "output_type": "stream",
     "text": [
      "0\n",
      "2\n",
      "4\n",
      "6\n",
      "8\n",
      "10\n",
      "12\n",
      "14\n",
      "16\n",
      "18\n",
      "20\n",
      "22\n",
      "24\n"
     ]
    }
   ],
   "source": [
    "# Review\n",
    "for i in range(26):\n",
    "    if (i % 2) == 0:\n",
    "        print(i)"
   ]
  },
  {
   "cell_type": "code",
   "execution_count": 6,
   "metadata": {},
   "outputs": [
    {
     "data": {
      "text/plain": [
       "[0, 2, 4, 6, 8, 10, 12, 14, 16, 18, 20, 22, 24]"
      ]
     },
     "execution_count": 6,
     "metadata": {},
     "output_type": "execute_result"
    }
   ],
   "source": [
    "evens = [i for i in range(26) if (i % 2) == 0]\n",
    "evens"
   ]
  },
  {
   "cell_type": "code",
   "execution_count": 2,
   "metadata": {},
   "outputs": [
    {
     "name": "stdout",
     "output_type": "stream",
     "text": [
      "0\n",
      "4.0\n"
     ]
    }
   ],
   "source": [
    "# Objects\n",
    "# Attributes\n",
    "x = 3\n",
    "print(x.imag)\n",
    "\n",
    "z = 3 + 4j # format of an imaginary number in Python\n",
    "print(z.imag)"
   ]
  },
  {
   "cell_type": "code",
   "execution_count": 3,
   "metadata": {},
   "outputs": [
    {
     "data": {
      "text/plain": [
       "2"
      ]
     },
     "execution_count": 3,
     "metadata": {},
     "output_type": "execute_result"
    }
   ],
   "source": [
    "# Methods\n",
    "x.bit_length()"
   ]
  },
  {
   "cell_type": "code",
   "execution_count": 6,
   "metadata": {},
   "outputs": [
    {
     "data": {
      "text/plain": [
       "2"
      ]
     },
     "execution_count": 6,
     "metadata": {},
     "output_type": "execute_result"
    }
   ],
   "source": [
    "# Defining Functions\n",
    "def least_difference(a, b, c):\n",
    "    \"\"\"Return the smallest difference between any two numbers among a, b, and c\"\"\"\n",
    "    diff1 = abs(a - b)\n",
    "    diff2 = abs(b - c)\n",
    "    diff3 = abs(a - c)\n",
    "    return min(diff1, diff2, diff3)\n",
    "\n",
    "least_difference(4,12,6)"
   ]
  },
  {
   "cell_type": "code",
   "execution_count": 7,
   "metadata": {},
   "outputs": [
    {
     "name": "stdout",
     "output_type": "stream",
     "text": [
      "Help on function least_difference in module __main__:\n",
      "\n",
      "least_difference(a, b, c)\n",
      "    Return the smallest difference between any two numbers among a, b, and c\n",
      "\n"
     ]
    }
   ],
   "source": [
    "help(least_difference)"
   ]
  },
  {
   "cell_type": "code",
   "execution_count": 11,
   "metadata": {},
   "outputs": [
    {
     "name": "stdout",
     "output_type": "stream",
     "text": [
      "Hello LSE !\n",
      "Hello Everyone !\n"
     ]
    }
   ],
   "source": [
    "# Functions with Default Arguments\n",
    "def greet(obj = \"LSE\"):\n",
    "    print(\"Hello\", obj, \"!\")\n",
    "    \n",
    "greet() # LSE is the default argument\n",
    "greet(\"Everyone\")"
   ]
  },
  {
   "cell_type": "code",
   "execution_count": 12,
   "metadata": {},
   "outputs": [
    {
     "data": {
      "text/plain": [
       "3"
      ]
     },
     "execution_count": 12,
     "metadata": {},
     "output_type": "execute_result"
    }
   ],
   "source": [
    "# Lambda Functions\n",
    "abs_diff = lambda a, b: abs(a-b)\n",
    "abs_diff(5,8)"
   ]
  },
  {
   "cell_type": "code",
   "execution_count": 7,
   "metadata": {},
   "outputs": [
    {
     "name": "stdout",
     "output_type": "stream",
     "text": [
      "olleH\n"
     ]
    }
   ],
   "source": [
    "# Practice creating a function that reverses strings\n",
    "def reverse(str1):\n",
    "    rstr1 = ''\n",
    "    index = len(str1)\n",
    "    while index > 0:\n",
    "        rstr1 += str1[index-1]\n",
    "        index = index - 1\n",
    "    return rstr1\n",
    "\n",
    "print(reverse(\"Hello\"))\n",
    "\n",
    "# Defining Classes\n",
    "# Create an object called Person that has methods to tell us if the person is tall, tells us their age and height, and classifies their age as teenager, adult, or child\n",
    "class Person:\n",
    "    \n",
    "    def __init__(self, age, height):\n",
    "        self.age = age\n",
    "        self.height = height\n",
    "        \n",
    "    def istall(self):\n",
    "        if self.height < 185 and self.age > 18:\n",
    "            self.state = 'short'\n",
    "        else: \n",
    "            self.state = 'tall'\n",
    "    \n",
    "    def agetype(self):\n",
    "        if self.age > 13 and self.age < 19:\n",
    "            self.state = 'teenager'\n",
    "        elif self.age > 19:\n",
    "            self.state = 'adult'\n",
    "        else:\n",
    "            self.state = 'child'"
   ]
  },
  {
   "cell_type": "code",
   "execution_count": 8,
   "metadata": {},
   "outputs": [
    {
     "name": "stdout",
     "output_type": "stream",
     "text": [
      "tall\n"
     ]
    }
   ],
   "source": [
    "newPerson = Person(12, 163)\n",
    "newPerson.istall()\n",
    "print(newPerson.state)"
   ]
  },
  {
   "cell_type": "code",
   "execution_count": 4,
   "metadata": {},
   "outputs": [
    {
     "name": "stdout",
     "output_type": "stream",
     "text": [
      "Maja you will turn 100 years old in 2100\n"
     ]
    }
   ],
   "source": [
    "# Exercises\n",
    "\n",
    "# Create a program that asks the user to enter their name and age. Print a message that tells them when they will turn 100 years old\n",
    "\n",
    "def hundreth_year(name, age):\n",
    "    year = (2019 - age) + 100\n",
    "    print(name, \"you will turn 100 years old in\", str(year))\n",
    "\n",
    "hundreth_year(\"Maja\", 19)"
   ]
  },
  {
   "cell_type": "code",
   "execution_count": 2,
   "metadata": {},
   "outputs": [
    {
     "data": {
      "text/plain": [
       "[1, 5, 25, 125]"
      ]
     },
     "execution_count": 2,
     "metadata": {},
     "output_type": "execute_result"
    }
   ],
   "source": [
    "# Create a program that asks the user for a number and prints out all of the divisors of the number.\n",
    "\n",
    "def factors(n):\n",
    "    factors = []\n",
    "    for i in range(1, n+1):\n",
    "        if n % i == 0:\n",
    "            factors.append(i)\n",
    "    return factors\n",
    "\n",
    "factors(9)\n",
    "factors(125)"
   ]
  },
  {
   "cell_type": "code",
   "execution_count": 10,
   "metadata": {},
   "outputs": [
    {
     "data": {
      "text/plain": [
       "[1, 1, 2, 3, 5, 8, 13]"
      ]
     },
     "execution_count": 10,
     "metadata": {},
     "output_type": "execute_result"
    }
   ],
   "source": [
    "# Create a function that takes two lists and returns a list that contains only the elements in common between them\n",
    "\n",
    "def commonElements(a, b):\n",
    "    newList = []\n",
    "    overlap = [item for item in a if item in b]\n",
    "    for element in overlap:\n",
    "        newList.append(element)\n",
    "    return newList\n",
    "\n",
    "a = [1, 1, 2, 3, 5, 8, 13, 21, 34, 55, 89]\n",
    "b = [1, 2, 3, 4, 5, 6, 7, 8, 9, 10, 11, 12, 13]\n",
    "commonElements(a, b)"
   ]
  },
  {
   "cell_type": "code",
   "execution_count": 14,
   "metadata": {},
   "outputs": [
    {
     "name": "stdout",
     "output_type": "stream",
     "text": [
      "Maximum is 3\n",
      "Maximum is 2\n"
     ]
    }
   ],
   "source": [
    "# Create a function that takes three variables as input and returns the largest of the three without the max function\n",
    "\n",
    "def maximum(a, b, c):\n",
    "    if (a > b) and (a > c):\n",
    "        print(\"Maximum is\", a)\n",
    "    elif (b > a) and (b > c):\n",
    "        print(\"Maximum is\", b)\n",
    "    elif (c > a) and (c > b):\n",
    "        print(\"Maximum is\", c)\n",
    "        \n",
    "maximum(1, 2, 3)\n",
    "maximum(1, 1, 2)"
   ]
  },
  {
   "cell_type": "code",
   "execution_count": 36,
   "metadata": {},
   "outputs": [
    {
     "name": "stdout",
     "output_type": "stream",
     "text": [
      "3\n",
      "True\n"
     ]
    }
   ],
   "source": [
    "# Create a class called triangle. Its init method should take self, angle1, angle2, and angle3 as arguments. Create a variable called number of sides and set it equal to 3. Create a method called check angles. It should return True if the sum of the angles is 180\n",
    "\n",
    "class Triangle(object):\n",
    "    def __init__(self, angle1, angle2, angle3):\n",
    "        self.angle1 = angle1\n",
    "        self.angle2 = angle2\n",
    "        self.angle3 = angle3\n",
    "        \n",
    "    number_of_sides = 3\n",
    "    \n",
    "    def check_angles(self):\n",
    "        if self.angle1 + self.angle2 + self.angle3 == 180:\n",
    "            return True\n",
    "        else:\n",
    "            return False\n",
    "\n",
    "        \n",
    "my_triangle = Triangle(90, 30, 60)\n",
    "print(my_triangle.number_of_sides)\n",
    "print(my_triangle.check_angles())"
   ]
  },
  {
   "cell_type": "code",
   "execution_count": 38,
   "metadata": {},
   "outputs": [
    {
     "name": "stdout",
     "output_type": "stream",
     "text": [
      "May god bless you, \n",
      "Have a sunshine on you,\n",
      "Happy Birthday to you !\n",
      "None\n"
     ]
    }
   ],
   "source": [
    "# Create a class called Songs that will show you the lyrics of a song. Its init method should have self and lyrics. Lyrics is a list. Create a method called sing me a song that prints each element of lyrics. Define a variable called happy birthday\n",
    "\n",
    "class Song(object):\n",
    "    def __init__(self, lyrics):\n",
    "        self.lyrics = lyrics\n",
    "    def sing_me_a_song(self):\n",
    "        for line in self.lyrics:\n",
    "            print(line)\n",
    "            \n",
    "    happy_bday = Song([\"Happy Birthday to you,\",\n",
    "                      \"Happy Birthday to you,\",\n",
    "                      \"Happy Birthday dear user!\"])\n",
    "    \n",
    "print(happy_bday.sing_me_a_song())"
   ]
  },
  {
   "cell_type": "code",
   "execution_count": null,
   "metadata": {},
   "outputs": [],
   "source": []
  },
  {
   "cell_type": "code",
   "execution_count": null,
   "metadata": {},
   "outputs": [],
   "source": []
  }
 ],
 "metadata": {
  "kernelspec": {
   "display_name": "Python 3",
   "language": "python",
   "name": "python3"
  },
  "language_info": {
   "codemirror_mode": {
    "name": "ipython",
    "version": 3
   },
   "file_extension": ".py",
   "mimetype": "text/x-python",
   "name": "python",
   "nbconvert_exporter": "python",
   "pygments_lexer": "ipython3",
   "version": "3.7.0"
  }
 },
 "nbformat": 4,
 "nbformat_minor": 2
}
