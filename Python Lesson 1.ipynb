{
 "cells": [
  {
   "cell_type": "code",
   "execution_count": 3,
   "metadata": {},
   "outputs": [
    {
     "name": "stdout",
     "output_type": "stream",
     "text": [
      "<class 'int'>\n"
     ]
    }
   ],
   "source": [
    "x = 9\n",
    "print(type(x))\n",
    "# x is an integer type, i.e. a positive or negative whole number with no decimal point"
   ]
  },
  {
   "cell_type": "code",
   "execution_count": 2,
   "metadata": {},
   "outputs": [
    {
     "name": "stdout",
     "output_type": "stream",
     "text": [
      "<class 'float'>\n"
     ]
    }
   ],
   "source": [
    "y = 3.5\n",
    "print(type(y))\n",
    "# y is a float type, or a floating-point number, which is a number with a decimal point"
   ]
  },
  {
   "cell_type": "code",
   "execution_count": 39,
   "metadata": {},
   "outputs": [
    {
     "name": "stdout",
     "output_type": "stream",
     "text": [
      "<class 'str'>\n",
      "\"Welcome to LSE,\" she said.\n",
      "Rerum cognoscere causas\n",
      "means \n",
      "\"To understand the causes of things\"\n",
      "First line\n",
      "Second line\n"
     ]
    }
   ],
   "source": [
    "string_var = \"hello world\"\n",
    "print(type(string_var))\n",
    "# string_var is a string created by putting quotation marks around the characters making up the string\n",
    "\n",
    "message = '\"Welcome to LSE,\" she said.'\n",
    "print(message)\n",
    "# single quotes contain double quotes\n",
    "\n",
    "paragraph = '''Rerum cognoscere causas\n",
    "means \n",
    "\"To understand the causes of things\"'''\n",
    "print(paragraph)\n",
    "# triple quotes allow us to use multiple line strings\n",
    "\n",
    "# Break lines by using \\n\n",
    "print(\"First line\\nSecond line\")"
   ]
  },
  {
   "cell_type": "code",
   "execution_count": 12,
   "metadata": {},
   "outputs": [
    {
     "name": "stdout",
     "output_type": "stream",
     "text": [
      "<class 'bool'>\n",
      "False\n"
     ]
    }
   ],
   "source": [
    "a = 5\n",
    "print(type(a > 3))\n",
    "\n",
    "x = 4\n",
    "y = 2\n",
    "x == y\n",
    "# 4 is not equal to 2 so the result of x == y is False"
   ]
  },
  {
   "cell_type": "code",
   "execution_count": 20,
   "metadata": {},
   "outputs": [
    {
     "data": {
      "text/plain": [
       "True"
      ]
     },
     "execution_count": 20,
     "metadata": {},
     "output_type": "execute_result"
    }
   ],
   "source": [
    "# logic with or/and... can you guess the results for the first three?\n",
    "\n",
    "False and True;\n",
    "\n",
    "False and False;\n",
    "\n",
    "False or True;\n",
    "\n",
    "True or True\n",
    "\n",
    "# Putting semi-colons at the end of the command will prevent the result from printing out, which is why only the last result is printed out as True"
   ]
  },
  {
   "cell_type": "code",
   "execution_count": 34,
   "metadata": {},
   "outputs": [
    {
     "name": "stdout",
     "output_type": "stream",
     "text": [
      "15\n",
      "<class 'float'>\n",
      "hahaha\n",
      "3.0\n"
     ]
    },
    {
     "data": {
      "text/plain": [
       "float"
      ]
     },
     "execution_count": 34,
     "metadata": {},
     "output_type": "execute_result"
    }
   ],
   "source": [
    "# Multiplication and Division with integers works just like expected\n",
    "x = 5\n",
    "y = 3\n",
    "product = x * y\n",
    "print(product)\n",
    "# This product of two integers is also an integer\n",
    "\n",
    "x = 5\n",
    "y = 3.0\n",
    "product = x * y\n",
    "print(type(product))\n",
    "# Notice that the type of the product variable is now a float because it is the product of an integer and a float\n",
    "\n",
    "# Multiplication of a string repeats the string\n",
    "laugh = \"ha\" * 3\n",
    "print(laugh)\n",
    "\n",
    "# Division with integers works as expected as well and will return a float\n",
    "a = 27\n",
    "b = 9\n",
    "print(a/b)\n",
    "type(a/b)"
   ]
  },
  {
   "cell_type": "code",
   "execution_count": 41,
   "metadata": {},
   "outputs": [
    {
     "name": "stdout",
     "output_type": "stream",
     "text": [
      "8\n"
     ]
    },
    {
     "data": {
      "text/plain": [
       "1"
      ]
     },
     "execution_count": 41,
     "metadata": {},
     "output_type": "execute_result"
    }
   ],
   "source": [
    "# Exponentiation is done by using two asterisks **\n",
    "cubed = 2**3\n",
    "print(cubed)\n",
    "\n",
    "# Modulo operator % yields the remainder from the division of two variables\n",
    "4 % 2\n",
    "# 4 % 2 yields 0 because 4 is divisible by 2 exactly, i.e. no remainder. What would 7 % 3 yield?"
   ]
  },
  {
   "cell_type": "code",
   "execution_count": 46,
   "metadata": {},
   "outputs": [
    {
     "name": "stdout",
     "output_type": "stream",
     "text": [
      "7\n",
      "9\n"
     ]
    }
   ],
   "source": [
    "m = 5\n",
    "m += 2\n",
    "print(m)\n",
    "\n",
    "m += 2\n",
    "print(m)\n",
    "# Recursive addition, works for subtraction -=, multiplication *=, and division /="
   ]
  },
  {
   "cell_type": "code",
   "execution_count": 53,
   "metadata": {},
   "outputs": [
    {
     "name": "stdout",
     "output_type": "stream",
     "text": [
      "<class 'int'>\n",
      "9.0\n",
      "<class 'float'>\n",
      "<class 'float'>\n",
      "21\n",
      "<class 'int'>\n",
      "LSE was founded in 1895\n",
      "124\n"
     ]
    },
    {
     "ename": "ValueError",
     "evalue": "invalid literal for int() with base 10: 'eighteen ninety five'",
     "output_type": "error",
     "traceback": [
      "\u001b[0;31m---------------------------------------------------------------------------\u001b[0m",
      "\u001b[0;31mValueError\u001b[0m                                Traceback (most recent call last)",
      "\u001b[0;32m<ipython-input-53-8060bffdeaaa>\u001b[0m in \u001b[0;36m<module>\u001b[0;34m()\u001b[0m\n\u001b[1;32m     27\u001b[0m \u001b[0;34m\u001b[0m\u001b[0m\n\u001b[1;32m     28\u001b[0m \u001b[0mfounding_year\u001b[0m \u001b[0;34m=\u001b[0m \u001b[0;34m'eighteen ninety five'\u001b[0m\u001b[0;34m\u001b[0m\u001b[0m\n\u001b[0;32m---> 29\u001b[0;31m \u001b[0mint\u001b[0m\u001b[0;34m(\u001b[0m\u001b[0mfounding_year\u001b[0m\u001b[0;34m)\u001b[0m\u001b[0;34m\u001b[0m\u001b[0m\n\u001b[0m",
      "\u001b[0;31mValueError\u001b[0m: invalid literal for int() with base 10: 'eighteen ninety five'"
     ]
    }
   ],
   "source": [
    "# Converting integers to floats\n",
    "x = 9\n",
    "print(type(x))\n",
    "x1 = float(x)\n",
    "print(x1)\n",
    "print(type(x1))\n",
    "\n",
    "# Converting floats to integers\n",
    "y = 21.5\n",
    "print(type(y))\n",
    "y1 = int(y)\n",
    "print(y1)\n",
    "print(type(y1))\n",
    "# Note how int function truncates the floating decimal to 21\n",
    "\n",
    "# Converting from integers and floats to strings\n",
    "founding_year = 1895\n",
    "print(\"LSE was founded in \" + str(founding_year))\n",
    "# str function turns 1895 into a string that can be added to another string\n",
    "\n",
    "# Converting from strings to integers when possible\n",
    "founding_year = '1895'\n",
    "# Now founding_year is a string variable\n",
    "LSE_age = 2019 - int(founding_year)\n",
    "print(LSE_age)\n",
    "# int function turns founding_year into an integer value... but this won't always work!\n",
    "\n",
    "founding_year = 'eighteen ninety five'\n",
    "int(founding_year)\n",
    "# Python doesn't know what to do with the string in this case because the string is not made up of numbers"
   ]
  },
  {
   "cell_type": "code",
   "execution_count": 4,
   "metadata": {},
   "outputs": [
    {
     "data": {
      "text/plain": [
       "'/Users/majalie'"
      ]
     },
     "execution_count": 4,
     "metadata": {},
     "output_type": "execute_result"
    }
   ],
   "source": [
    "# Working Directory\n",
    "import os\n",
    "os.getcwd()"
   ]
  },
  {
   "cell_type": "code",
   "execution_count": 5,
   "metadata": {},
   "outputs": [],
   "source": [
    "# Change working directory\n",
    "os.chdir('/Users/majalie/Desktop/LSESU CODESOC')"
   ]
  },
  {
   "cell_type": "code",
   "execution_count": 9,
   "metadata": {},
   "outputs": [
    {
     "data": {
      "text/html": [
       "<div>\n",
       "<style scoped>\n",
       "    .dataframe tbody tr th:only-of-type {\n",
       "        vertical-align: middle;\n",
       "    }\n",
       "\n",
       "    .dataframe tbody tr th {\n",
       "        vertical-align: top;\n",
       "    }\n",
       "\n",
       "    .dataframe thead th {\n",
       "        text-align: right;\n",
       "    }\n",
       "</style>\n",
       "<table border=\"1\" class=\"dataframe\">\n",
       "  <thead>\n",
       "    <tr style=\"text-align: right;\">\n",
       "      <th></th>\n",
       "      <th>mpg</th>\n",
       "      <th>cylinders</th>\n",
       "      <th>displacement</th>\n",
       "      <th>horsepower</th>\n",
       "      <th>weight</th>\n",
       "      <th>acceleration</th>\n",
       "      <th>year</th>\n",
       "      <th>origin</th>\n",
       "      <th>name</th>\n",
       "    </tr>\n",
       "  </thead>\n",
       "  <tbody>\n",
       "    <tr>\n",
       "      <th>0</th>\n",
       "      <td>18.0</td>\n",
       "      <td>8</td>\n",
       "      <td>307.0</td>\n",
       "      <td>130</td>\n",
       "      <td>3504</td>\n",
       "      <td>12.0</td>\n",
       "      <td>70</td>\n",
       "      <td>1</td>\n",
       "      <td>chevrolet chevelle malibu</td>\n",
       "    </tr>\n",
       "    <tr>\n",
       "      <th>1</th>\n",
       "      <td>15.0</td>\n",
       "      <td>8</td>\n",
       "      <td>350.0</td>\n",
       "      <td>165</td>\n",
       "      <td>3693</td>\n",
       "      <td>11.5</td>\n",
       "      <td>70</td>\n",
       "      <td>1</td>\n",
       "      <td>buick skylark 320</td>\n",
       "    </tr>\n",
       "    <tr>\n",
       "      <th>2</th>\n",
       "      <td>18.0</td>\n",
       "      <td>8</td>\n",
       "      <td>318.0</td>\n",
       "      <td>150</td>\n",
       "      <td>3436</td>\n",
       "      <td>11.0</td>\n",
       "      <td>70</td>\n",
       "      <td>1</td>\n",
       "      <td>plymouth satellite</td>\n",
       "    </tr>\n",
       "    <tr>\n",
       "      <th>3</th>\n",
       "      <td>16.0</td>\n",
       "      <td>8</td>\n",
       "      <td>304.0</td>\n",
       "      <td>150</td>\n",
       "      <td>3433</td>\n",
       "      <td>12.0</td>\n",
       "      <td>70</td>\n",
       "      <td>1</td>\n",
       "      <td>amc rebel sst</td>\n",
       "    </tr>\n",
       "    <tr>\n",
       "      <th>4</th>\n",
       "      <td>17.0</td>\n",
       "      <td>8</td>\n",
       "      <td>302.0</td>\n",
       "      <td>140</td>\n",
       "      <td>3449</td>\n",
       "      <td>10.5</td>\n",
       "      <td>70</td>\n",
       "      <td>1</td>\n",
       "      <td>ford torino</td>\n",
       "    </tr>\n",
       "  </tbody>\n",
       "</table>\n",
       "</div>"
      ],
      "text/plain": [
       "    mpg  cylinders  displacement horsepower  weight  acceleration  year  \\\n",
       "0  18.0          8         307.0        130    3504          12.0    70   \n",
       "1  15.0          8         350.0        165    3693          11.5    70   \n",
       "2  18.0          8         318.0        150    3436          11.0    70   \n",
       "3  16.0          8         304.0        150    3433          12.0    70   \n",
       "4  17.0          8         302.0        140    3449          10.5    70   \n",
       "\n",
       "   origin                       name  \n",
       "0       1  chevrolet chevelle malibu  \n",
       "1       1          buick skylark 320  \n",
       "2       1         plymouth satellite  \n",
       "3       1              amc rebel sst  \n",
       "4       1                ford torino  "
      ]
     },
     "execution_count": 9,
     "metadata": {},
     "output_type": "execute_result"
    }
   ],
   "source": [
    "import pandas as pd\n",
    "Auto = pd.read_csv(\"Auto.csv\")\n",
    "Auto.head()"
   ]
  },
  {
   "cell_type": "code",
   "execution_count": 10,
   "metadata": {},
   "outputs": [
    {
     "name": "stdout",
     "output_type": "stream",
     "text": [
      "True\n",
      "False\n",
      "True\n"
     ]
    }
   ],
   "source": [
    "# Boolean Conversion\n",
    "# We can use bool() to turn things in Python into booleans\n",
    "print(bool(1)) # all numbers are TRUE except 0\n",
    "print(bool(0)) \n",
    "print(bool(\"asf\")) # all strings are TRUE except the empty string \"\""
   ]
  },
  {
   "cell_type": "code",
   "execution_count": null,
   "metadata": {},
   "outputs": [],
   "source": []
  }
 ],
 "metadata": {
  "kernelspec": {
   "display_name": "Python 3",
   "language": "python",
   "name": "python3"
  },
  "language_info": {
   "codemirror_mode": {
    "name": "ipython",
    "version": 3
   },
   "file_extension": ".py",
   "mimetype": "text/x-python",
   "name": "python",
   "nbconvert_exporter": "python",
   "pygments_lexer": "ipython3",
   "version": "3.7.0"
  }
 },
 "nbformat": 4,
 "nbformat_minor": 2
}
