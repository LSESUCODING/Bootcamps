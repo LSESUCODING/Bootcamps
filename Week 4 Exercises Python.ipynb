{
 "cells": [
  {
   "cell_type": "code",
   "execution_count": 3,
   "metadata": {},
   "outputs": [
    {
     "name": "stdout",
     "output_type": "stream",
     "text": [
      "1 2 3 4\n",
      "[4 3 2 1]\n"
     ]
    }
   ],
   "source": [
    "# Exercise 1: Write a NumPy program to reverse an array\n",
    "\n",
    "import numpy as np\n",
    "\n",
    "def reverse_array():\n",
    "    x = np.array(list(map(int, input().split()))) # this piece of code splits the input string into individual values, then maps each value to an integer type and stores it in a list. We make an array from this list\n",
    "    x = x[::-1] # reverses the array\n",
    "    print(x)\n",
    "    \n",
    "reverse_array()"
   ]
  },
  {
   "cell_type": "code",
   "execution_count": 8,
   "metadata": {},
   "outputs": [
    {
     "name": "stdout",
     "output_type": "stream",
     "text": [
      "0 100\n",
      "[ 32. 212.]\n"
     ]
    }
   ],
   "source": [
    "# Exercise 2: Write a NumPy program to convert Celsius to Fahreheit given an array of values in Celsius\n",
    "\n",
    "def fahrenheit():\n",
    "    x = np.array(list(map(int, input().split())))\n",
    "    f = (9/5)*x + 32\n",
    "    print(f)\n",
    "\n",
    "fahrenheit()"
   ]
  },
  {
   "cell_type": "code",
   "execution_count": 11,
   "metadata": {},
   "outputs": [
    {
     "name": "stdout",
     "output_type": "stream",
     "text": [
      "1 2 3 4\n",
      "2 4 6 8\n",
      "[False  True False  True]\n"
     ]
    }
   ],
   "source": [
    "# Exercise 3: Write a NumPy program to test whether each element of a 1-D array is also present in a second array.\n",
    "\n",
    "def common():\n",
    "    array1 = np.array(list(map(int, input().split())))\n",
    "    array2 = np.array(list(map(int, input().split())))\n",
    "    print(np.in1d(array1, array2)) # another method in NumPy that checks if the elements in a 1D array are in the second array\n",
    "    \n",
    "common()"
   ]
  },
  {
   "cell_type": "code",
   "execution_count": 18,
   "metadata": {},
   "outputs": [
    {
     "name": "stdout",
     "output_type": "stream",
     "text": [
      "1 2 3\n",
      "2 3 4\n",
      "[1 2 3 4]\n"
     ]
    }
   ],
   "source": [
    "# Exercise 4: Write a NumPy program to find the union of two arrays\n",
    "\n",
    "def union():\n",
    "    array1 = np.array(list(map(int, input().split())))\n",
    "    array2 = np.array(list(map(int, input().split())))\n",
    "    print(np.union1d(array1, array2))\n",
    "\n",
    "union()"
   ]
  },
  {
   "cell_type": "code",
   "execution_count": 17,
   "metadata": {},
   "outputs": [
    {
     "name": "stdout",
     "output_type": "stream",
     "text": [
      "1 2 3 4\n",
      "Data type of original array is:  int64\n",
      "New array type:  float64\n",
      "[1. 2. 3. 4.]\n"
     ]
    }
   ],
   "source": [
    "# Exercise 5: Write a NumPy program to change the data type of an array\n",
    "\n",
    "array = np.array(list(map(int, input().split())))\n",
    "print(\"Data type of original array is: \", array.dtype)\n",
    "new_array = array.astype(float)\n",
    "print(\"New array type: \", new_array.dtype)\n",
    "print(new_array)"
   ]
  },
  {
   "cell_type": "code",
   "execution_count": 27,
   "metadata": {},
   "outputs": [
    {
     "name": "stdout",
     "output_type": "stream",
     "text": [
      "[8 8 8 8 8 8 8 8 8 8 8 8 8 8 4 6 6 6 4 4 4 4 4 4 6 8 8 8 8 4 4 4 4 6 6 6 6\n",
      " 6 8 8 8 8 8 8 8 6 4 6 6 4 4 4 4 4 4 4 4 4 4 4 4 4 8 8 8 8 8 8 8 8 8 3 8 8\n",
      " 8 8 4 4 4 4 4 4 4 4 4 8 8 8 8 8 8 8 8 8 8 8 8 6 6 6 6 6 4 8 8 8 8 6 4 4 4\n",
      " 3 4 6 4 8 8 4 4 4 4 8 4 6 8 6 6 6 6 4 4 4 4 6 6 6 8 8 8 8 8 4 4 4 4 4 4 4\n",
      " 4 4 4 4 6 6 6 6 8 8 8 8 6 6 6 6 6 8 8 4 4 6 4 4 4 4 6 4 6 4 4 4 4 4 4 4 4\n",
      " 4 4 8 8 8 8 6 6 6 6 4 4 4 4 6 6 6 6 4 4 4 4 4 8 4 6 6 8 8 8 8 4 4 4 4 4 8\n",
      " 8 8 8 6 6 6 6 8 8 8 8 4 4 4 4 4 4 4 4 6 4 3 4 4 4 4 4 8 8 8 6 6 6 4 6 6 6\n",
      " 6 6 6 8 6 8 8 4 4 4 4 4 4 4 4 5 6 4 6 4 4 6 6 4 6 6 8 8 8 8 8 8 8 8 4 4 4\n",
      " 4 5 8 4 8 4 4 4 4 4 6 6 4 4 4 4 4 4 4 4 6 4 4 4 4 4 4 4 4 4 4 5 4 4 4 4 4\n",
      " 6 3 4 4 4 4 4 4 6 4 4 4 4 4 4 4 4 4 4 4 4 4 4 4 4 4 4 6 6 6 6 8 6 6 4 4 4\n",
      " 4 4 4 4 4 4 4 4 4 4 4 4 4 4 4 6 6 4 6 4 4 4 4 4 4 4 4]\n"
     ]
    }
   ],
   "source": [
    "# Exercise 6: Write a NumPy program to read a CSV data file and store records in an array\n",
    "\n",
    "import os \n",
    "os.getcwd()\n",
    "os.chdir('/Users/majalie/Desktop/LSESU CODESOC')\n",
    "\n",
    "import pandas as pd\n",
    "\n",
    "Auto = pd.read_csv(\"Auto.csv\")\n",
    "Auto.head()\n",
    "cylinders = Auto.loc[:,\"cylinders\"]\n",
    "cylinders_array = np.array(cylinders)\n",
    "print(cylinders_array)"
   ]
  },
  {
   "cell_type": "code",
   "execution_count": null,
   "metadata": {},
   "outputs": [],
   "source": []
  }
 ],
 "metadata": {
  "kernelspec": {
   "display_name": "Python 3",
   "language": "python",
   "name": "python3"
  },
  "language_info": {
   "codemirror_mode": {
    "name": "ipython",
    "version": 3
   },
   "file_extension": ".py",
   "mimetype": "text/x-python",
   "name": "python",
   "nbconvert_exporter": "python",
   "pygments_lexer": "ipython3",
   "version": "3.7.0"
  }
 },
 "nbformat": 4,
 "nbformat_minor": 2
}
