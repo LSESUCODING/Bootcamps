{
 "cells": [
  {
   "cell_type": "code",
   "execution_count": 21,
   "metadata": {},
   "outputs": [
    {
     "name": "stdout",
     "output_type": "stream",
     "text": [
      "3\n",
      "3 is prime\n"
     ]
    }
   ],
   "source": [
    "# Practice 1: Initialise a numeric value in a variable called x. Write a for loop that checks if x is prime or not.\n",
    "x = int(input())\n",
    "numberOfDivisors = 0\n",
    "for i in range(1, x+1):\n",
    "    if x % i == 0:\n",
    "        numberOfDivisors += 1\n",
    "if numberOfDivisors == 2:\n",
    "    print(x, \"is prime\")\n",
    "else:\n",
    "    print(x, \"is not prime\")"
   ]
  },
  {
   "cell_type": "code",
   "execution_count": 30,
   "metadata": {},
   "outputs": [
    {
     "name": "stdout",
     "output_type": "stream",
     "text": [
      "120\n"
     ]
    }
   ],
   "source": [
    "# Practice 2: Create a function that calculates the factorial of a number.\n",
    "def factorial(n):\n",
    "    factorial = 1\n",
    "    while (n > 0):\n",
    "        factorial *= n\n",
    "        n -= 1\n",
    "    print(factorial)\n",
    "\n",
    "factorial(5)"
   ]
  },
  {
   "cell_type": "code",
   "execution_count": 28,
   "metadata": {},
   "outputs": [
    {
     "name": "stdout",
     "output_type": "stream",
     "text": [
      "6 is a perfect number.\n"
     ]
    }
   ],
   "source": [
    "# Practice 3: Create a function that checks if a number is perfect.\n",
    "# A number is perfect if its divisors (not including itself) sum to itself, i.e. 6 is a perfect number because 1+2+3 = 6\n",
    "def checkperfect(a):\n",
    "    sumOfDivisors = 0\n",
    "    for i in range(1, a):\n",
    "        if a % i == 0: \n",
    "            sumOfDivisors += i\n",
    "            \n",
    "    if sumOfDivisors == a:\n",
    "        print(a, \"is a perfect number.\")\n",
    "    else:\n",
    "        print(a, \"is not a perfect number.\")\n",
    "        \n",
    "checkperfect(6)"
   ]
  }
 ],
 "metadata": {
  "kernelspec": {
   "display_name": "Python 3",
   "language": "python",
   "name": "python3"
  },
  "language_info": {
   "codemirror_mode": {
    "name": "ipython",
    "version": 3
   },
   "file_extension": ".py",
   "mimetype": "text/x-python",
   "name": "python",
   "nbconvert_exporter": "python",
   "pygments_lexer": "ipython3",
   "version": "3.7.0"
  }
 },
 "nbformat": 4,
 "nbformat_minor": 2
}
