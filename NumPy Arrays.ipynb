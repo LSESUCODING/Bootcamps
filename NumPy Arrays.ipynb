{
 "cells": [
  {
   "cell_type": "code",
   "execution_count": 2,
   "metadata": {},
   "outputs": [],
   "source": [
    "import numpy as np"
   ]
  },
  {
   "cell_type": "code",
   "execution_count": 3,
   "metadata": {},
   "outputs": [
    {
     "name": "stdout",
     "output_type": "stream",
     "text": [
      "[1 2 3 4 5 6]\n",
      "[1 2 3 4 5 6]\n"
     ]
    }
   ],
   "source": [
    "# NumPy Arrays\n",
    "array1 = np.array([1, 2, 3, 4, 5, 6])\n",
    "\n",
    "list = [1, 2, 3, 4, 5, 6]\n",
    "array2 = np.array(list) # equivalent ways of making arrays\n",
    "\n",
    "print(array1)\n",
    "print(array2)"
   ]
  },
  {
   "cell_type": "code",
   "execution_count": 4,
   "metadata": {},
   "outputs": [],
   "source": [
    "# Creating arrays from imported data\n",
    "# If we have a csv, we can create arrays from this data by using np.genfromtxt\n",
    "# The first argument is the name of the file\n",
    "# Delimiter tells us how the values are separated, i.e. by comma or spaces\n",
    "import os\n",
    "os.getcwd()\n",
    "os.chdir(\"/Users/majalie/Desktop/LSESU CODESOC\")\n",
    "cylinders = np.genfromtxt('Auto.csv', delimiter=',')"
   ]
  },
  {
   "cell_type": "code",
   "execution_count": 11,
   "metadata": {},
   "outputs": [
    {
     "name": "stdout",
     "output_type": "stream",
     "text": [
      "[4, 5, 6, 7, 8]\n",
      "[ 7  8  9 10 11]\n"
     ]
    },
    {
     "data": {
      "text/plain": [
       "array([258, 279, 246, 274, 270])"
      ]
     },
     "execution_count": 11,
     "metadata": {},
     "output_type": "execute_result"
    }
   ],
   "source": [
    "# Operations with Numpy arrays\n",
    "\n",
    "# Method 1: Lists\n",
    "l = [1, 2, 3, 4, 5]\n",
    "for i in range(len(l)):\n",
    "    l[i] = l[i] + 3\n",
    "    \n",
    "print(l)\n",
    "\n",
    "# Method 2: Arrays\n",
    "a = np.array(l)\n",
    "a = a + 3\n",
    "print(a)\n",
    "\n",
    "# Note how the array code is much shorter\n",
    "\n",
    "# Addition and Subtraction of Arrays\n",
    "# Arrays must be the same length\n",
    "test_1 = np.array([92, 94, 88, 91, 87])\n",
    "test_2 = np.array([79, 100, 86, 93, 91])\n",
    "test_3 = np.array([87, 85, 72, 90, 92])\n",
    "total_grade = test_1 + test_2 + test_3\n",
    "total_grade"
   ]
  },
  {
   "cell_type": "code",
   "execution_count": 12,
   "metadata": {},
   "outputs": [],
   "source": [
    "# Two-Dimensional Arrays: arrays containing arrays of the same size\n",
    "# Often used to represent a set of samples in statistics\n",
    "test_grades = np.array([test_1, test_2, test_3])\n",
    "test_grades = np.array([[92, 94, 88, 91, 87], \n",
    "                        [79, 100, 86, 93, 91], \n",
    "                        [87, 85, 72, 90, 92]])\n",
    "# If we're writing out the arrays inside, we need to make sure to enclose them with []"
   ]
  },
  {
   "cell_type": "code",
   "execution_count": 13,
   "metadata": {},
   "outputs": [
    {
     "name": "stdout",
     "output_type": "stream",
     "text": [
      "85\n",
      "[ 94 100  85]\n",
      "[92 94 88 91 87]\n"
     ]
    }
   ],
   "source": [
    "# Selecting Elements: one-dimensional arrays\n",
    "test_1[0]\n",
    "test_1[0:3]\n",
    "\n",
    "# Selecting Elements: two-dimensional arrays\n",
    "# Use two indices\n",
    "print(test_grades[2, 1]) # selects element in the third row, second column\n",
    "print(test_grades[:,1]) # selects all of the second column\n",
    "print(test_grades[0,:]) # selects all of the first row"
   ]
  },
  {
   "cell_type": "code",
   "execution_count": 14,
   "metadata": {},
   "outputs": [
    {
     "data": {
      "text/plain": [
       "array([ True, False, False, False, False,  True,  True,  True])"
      ]
     },
     "execution_count": 14,
     "metadata": {},
     "output_type": "execute_result"
    }
   ],
   "source": [
    "# Logical Operations with arrays\n",
    "# Element-wise\n",
    "array = np.array([10, 2, 0, 4, 5, 6, 9, 8])\n",
    "array > 5"
   ]
  },
  {
   "cell_type": "code",
   "execution_count": 15,
   "metadata": {},
   "outputs": [
    {
     "data": {
      "text/plain": [
       "array([2, 0, 4])"
      ]
     },
     "execution_count": 15,
     "metadata": {},
     "output_type": "execute_result"
    }
   ],
   "source": [
    "# Select elements that are FALSE\n",
    "array[array < 5]"
   ]
  },
  {
   "cell_type": "code",
   "execution_count": 16,
   "metadata": {},
   "outputs": [
    {
     "data": {
      "text/plain": [
       "array([10,  0,  6,  9,  8])"
      ]
     },
     "execution_count": 16,
     "metadata": {},
     "output_type": "execute_result"
    }
   ],
   "source": [
    "# Combine logical operators to make complex statements using \"OR\" and \"AND\"\n",
    "array[(array > 5) & (array < 10)]\n",
    "array[(array > 5) | (array < 2)]"
   ]
  },
  {
   "cell_type": "code",
   "execution_count": 17,
   "metadata": {},
   "outputs": [
    {
     "name": "stdout",
     "output_type": "stream",
     "text": [
      "88.46666666666667\n",
      "[90.4 89.8 85.2]\n",
      "[86.         93.         82.         91.33333333 90.        ]\n",
      "1.0\n",
      "2.576819745345025\n"
     ]
    }
   ],
   "source": [
    "# Summary Statistics with NumPy\n",
    "# Mean of one-dimensional array\n",
    "np.mean(test_1)\n",
    "\n",
    "#Mean of two-dimensional arrays\n",
    "overall_mean = np.mean(test_grades)\n",
    "row_means = np.mean(test_grades, axis = 1) # axis 1 is rows\n",
    "column_means = np.mean(test_grades, axis = 0) # axis 0 is columns\n",
    "\n",
    "print(overall_mean)\n",
    "print(row_means)\n",
    "print(column_means)\n",
    "\n",
    "# Mean and logical statements\n",
    "passed = np.mean(test_1 > 50) # calculates the percent/ratio of how many test scores are above 50\n",
    "print(passed)\n",
    "\n",
    "# Outliers - visualize what your outliers are by using sort to rearrange the data in your array\n",
    "np.sort(test_2)\n",
    "\n",
    "# Percentiles\n",
    "# First argument is array, second argument is percentile\n",
    "np.percentile(test_1, 10)\n",
    "\n",
    "# Median\n",
    "np.median([1, 2, 4, 5, 5, 6, 7])\n",
    "\n",
    "# Standard deviation\n",
    "np.std(test_1)\n",
    "print(np.std(test_1))"
   ]
  },
  {
   "cell_type": "code",
   "execution_count": null,
   "metadata": {},
   "outputs": [],
   "source": []
  }
 ],
 "metadata": {
  "kernelspec": {
   "display_name": "Python 3",
   "language": "python",
   "name": "python3"
  },
  "language_info": {
   "codemirror_mode": {
    "name": "ipython",
    "version": 3
   },
   "file_extension": ".py",
   "mimetype": "text/x-python",
   "name": "python",
   "nbconvert_exporter": "python",
   "pygments_lexer": "ipython3",
   "version": "3.7.0"
  }
 },
 "nbformat": 4,
 "nbformat_minor": 2
}
