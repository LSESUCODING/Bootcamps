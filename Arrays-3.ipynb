{
 "cells": [
  {
   "cell_type": "code",
   "execution_count": 31,
   "metadata": {},
   "outputs": [],
   "source": [
    "# Review from previous - create a class called Undergraduate\n",
    "class Undergraduate:\n",
    "    \n",
    "    def __init__(self, university, year, degree):\n",
    "        self.university = university\n",
    "        self.year = year\n",
    "        self.degree = degree\n",
    "        \n",
    "    def studentType(self):\n",
    "        if self.year == 1:\n",
    "            self.state = \"Fresher\"\n",
    "        elif self.year == 2:\n",
    "            self.state = \"Penultimate\"\n",
    "        else:\n",
    "            self.state = \"Senior\""
   ]
  },
  {
   "cell_type": "code",
   "execution_count": 32,
   "metadata": {},
   "outputs": [
    {
     "name": "stdout",
     "output_type": "stream",
     "text": [
      "Penultimate\n"
     ]
    }
   ],
   "source": [
    "student = Undergraduate(\"LSE\", 2, \"Mathematics with Economics\")\n",
    "student.studentType()\n",
    "print(student.state)"
   ]
  },
  {
   "cell_type": "code",
   "execution_count": 4,
   "metadata": {},
   "outputs": [
    {
     "name": "stdout",
     "output_type": "stream",
     "text": [
      "1 2 3 4\n",
      "2.5\n"
     ]
    }
   ],
   "source": [
    "# Review from previous - create a function that takes the mean of a list of numbers as input\n",
    "def mean():\n",
    "    x = input().split()\n",
    "    totalsum = 0\n",
    "    for i in x:\n",
    "        totalsum += int(i)\n",
    "    mean = totalsum / len(x)\n",
    "    print(mean)\n",
    "    \n",
    "mean()"
   ]
  },
  {
   "cell_type": "code",
   "execution_count": 33,
   "metadata": {},
   "outputs": [
    {
     "name": "stdout",
     "output_type": "stream",
     "text": [
      "array('b', [1, 2, 3, 4])\n",
      "array('i', [2, 4, 5, 6])\n"
     ]
    }
   ],
   "source": [
    "# Arrays\n",
    "import array as arr # import special package to work with arrays\n",
    "\n",
    "\n",
    "# Arrays are data structures that contain objects of only the same type\n",
    "# Create an array: the first argument is the type of the element, the second is the actual element values\n",
    "array = arr.array('b', [1, 2, 3, 4]) \n",
    "print(array)\n",
    "\n",
    "# We can create arrays from lists as well by telling Python our element values come from a pre defined list\n",
    "list = [2, 4, 5, 6]\n",
    "array2 = arr.array('i', list)\n",
    "print(array2)"
   ]
  },
  {
   "cell_type": "code",
   "execution_count": 34,
   "metadata": {},
   "outputs": [
    {
     "name": "stdout",
     "output_type": "stream",
     "text": [
      "Second element: 2\n",
      "array('i', [2, 4, 5])\n",
      "array('b', [1, 2, 3])\n",
      "array('b', [3, 4])\n"
     ]
    }
   ],
   "source": [
    "# Access array elements using indices like lists\n",
    "print(\"Second element:\", array[1])\n",
    "\n",
    "# Slicing arrays\n",
    "print(array2[0:3]) # First element to third element\n",
    "print(array[:-1]) # Print until last element\n",
    "print(array[2:]) # Print starting from 3rd element"
   ]
  },
  {
   "cell_type": "code",
   "execution_count": 35,
   "metadata": {},
   "outputs": [
    {
     "name": "stdout",
     "output_type": "stream",
     "text": [
      "array('b', [-1, 2, 3, 4])\n",
      "array('b', [-1, -2, -3, -4])\n"
     ]
    }
   ],
   "source": [
    "# Change or add elements\n",
    "# We use the same method of utilizing index numbers as we do with lists\n",
    "array[0] = -1\n",
    "print(array)\n",
    "\n",
    "array[1:] = arr.array('b', [-2, -3, -4])\n",
    "print(array)"
   ]
  },
  {
   "cell_type": "code",
   "execution_count": 36,
   "metadata": {},
   "outputs": [
    {
     "name": "stdout",
     "output_type": "stream",
     "text": [
      "array('b', [-1, -2, -3, -4, 0])\n",
      "array('b', [-1, -2, -3, -4, 0, 1, 2, 3, 4])\n"
     ]
    }
   ],
   "source": [
    "# Add elements using append or extend\n",
    "array.append(0) # append adds a single element to the end of the array\n",
    "print(array)\n",
    "\n",
    "array.extend([1, 2, 3, 4]) # extend adds several elements to the end of the array\n",
    "\n",
    "# We can sort the array in ascending order (or descending if we specify another argument)\n",
    "sorted(array)\n",
    "print(array)"
   ]
  },
  {
   "cell_type": "code",
   "execution_count": 52,
   "metadata": {},
   "outputs": [
    {
     "name": "stdout",
     "output_type": "stream",
     "text": [
      "array('i', [1, 2, 3, 4, 4, -4, -5, -7])\n"
     ]
    }
   ],
   "source": [
    "# Concatenate arrays: join two arrays together\n",
    "positive = arr.array('i', [1, 2, 3, 4, 4])\n",
    "negative = arr.array('i', [-4, -5, -7])\n",
    "\n",
    "numbers = arr.array('i') # create empty array of integer type\n",
    "numbers = positive + negative # concatenate with +\n",
    "print(numbers)"
   ]
  },
  {
   "cell_type": "code",
   "execution_count": 53,
   "metadata": {
    "scrolled": false
   },
   "outputs": [
    {
     "name": "stdout",
     "output_type": "stream",
     "text": [
      "array('i', [1, 2, 3, 4, -4, -5, -7])\n",
      "array('i', [1, 2, 4, -4, -5, -7])\n",
      "array('i', [2, 4, -4, -5, -7])\n"
     ]
    }
   ],
   "source": [
    "# Remove elements from array\n",
    "del numbers[3] # get rid of the repeat 4\n",
    "print(numbers)\n",
    "\n",
    "numbers.remove(3) # remove deletes the given item\n",
    "print(numbers)\n",
    "\n",
    "numbers.pop(0) # deletes the item at the given index\n",
    "print(numbers)"
   ]
  },
  {
   "cell_type": "code",
   "execution_count": 54,
   "metadata": {},
   "outputs": [],
   "source": [
    "# END OF LESSON"
   ]
  },
  {
   "cell_type": "code",
   "execution_count": null,
   "metadata": {},
   "outputs": [],
   "source": []
  }
 ],
 "metadata": {
  "kernelspec": {
   "display_name": "Python 3",
   "language": "python",
   "name": "python3"
  },
  "language_info": {
   "codemirror_mode": {
    "name": "ipython",
    "version": 3
   },
   "file_extension": ".py",
   "mimetype": "text/x-python",
   "name": "python",
   "nbconvert_exporter": "python",
   "pygments_lexer": "ipython3",
   "version": "3.7.0"
  }
 },
 "nbformat": 4,
 "nbformat_minor": 2
}
